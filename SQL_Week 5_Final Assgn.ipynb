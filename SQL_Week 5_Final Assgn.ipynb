{
 "cells": [
  {
   "cell_type": "markdown",
   "metadata": {},
   "source": [
    "<center>\n",
    "    <img src=\"https://s3-api.us-geo.objectstorage.softlayer.net/cf-courses-data/CognitiveClass/Logos/organization_logo/organization_logo.png\" width=\"300\" alt=\"cognitiveclass.ai logo\"  />\n",
    "</center>\n",
    "\n",
    "<h1 align=center><font size = 5>Assignment: Notebook for Peer Assignment</font></h1>\n"
   ]
  },
  {
   "cell_type": "markdown",
   "metadata": {},
   "source": [
    "# Introduction\n",
    "\n",
    "Using this Python notebook you will:\n",
    "\n",
    "1.  Understand three Chicago datasets\n",
    "2.  Load the three datasets into three tables in a Db2 database\n",
    "3.  Execute SQL queries to answer assignment questions\n"
   ]
  },
  {
   "cell_type": "markdown",
   "metadata": {},
   "source": [
    "## Understand the datasets\n",
    "\n",
    "To complete the assignment problems in this notebook you will be using three datasets that are available on the city of Chicago's Data Portal:\n",
    "\n",
    "1.  <a href=\"https://data.cityofchicago.org/Health-Human-Services/Census-Data-Selected-socioeconomic-indicators-in-C/kn9c-c2s2?utm_medium=Exinfluencer&utm_source=Exinfluencer&utm_content=000026UJ&utm_term=10006555&utm_id=NA-SkillsNetwork-Channel-SkillsNetworkCoursesIBMDeveloperSkillsNetworkDB0201ENSkillsNetwork20127838-2021-01-01\">Socioeconomic Indicators in Chicago</a>\n",
    "2.  <a href=\"https://data.cityofchicago.org/Education/Chicago-Public-Schools-Progress-Report-Cards-2011-/9xs2-f89t?utm_medium=Exinfluencer&utm_source=Exinfluencer&utm_content=000026UJ&utm_term=10006555&utm_id=NA-SkillsNetwork-Channel-SkillsNetworkCoursesIBMDeveloperSkillsNetworkDB0201ENSkillsNetwork20127838-2021-01-01\">Chicago Public Schools</a>\n",
    "3.  <a href=\"https://data.cityofchicago.org/Public-Safety/Crimes-2001-to-present/ijzp-q8t2?utm_medium=Exinfluencer&utm_source=Exinfluencer&utm_content=000026UJ&utm_term=10006555&utm_id=NA-SkillsNetwork-Channel-SkillsNetworkCoursesIBMDeveloperSkillsNetworkDB0201ENSkillsNetwork20127838-2021-01-01\">Chicago Crime Data</a>\n",
    "\n",
    "### 1. Socioeconomic Indicators in Chicago\n",
    "\n",
    "This dataset contains a selection of six socioeconomic indicators of public health significance and a “hardship index,” for each Chicago community area, for the years 2008 – 2012.\n",
    "\n",
    "A detailed description of this dataset and the original dataset can be obtained from the Chicago Data Portal at:\n",
    "[https://data.cityofchicago.org/Health-Human-Services/Census-Data-Selected-socioeconomic-indicators-in-C/kn9c-c2s2](https://data.cityofchicago.org/Health-Human-Services/Census-Data-Selected-socioeconomic-indicators-in-C/kn9c-c2s2?utm_medium=Exinfluencer&utm_source=Exinfluencer&utm_content=000026UJ&utm_term=10006555&utm_id=NA-SkillsNetwork-Channel-SkillsNetworkCoursesIBMDeveloperSkillsNetworkDB0201ENSkillsNetwork20127838-2021-01-01&cm_mmc=Email_Newsletter-\\_-Developer_Ed%2BTech-\\_-WW_WW-\\_-SkillsNetwork-Courses-IBMDeveloperSkillsNetwork-DB0201EN-SkillsNetwork-20127838&cm_mmca1=000026UJ&cm_mmca2=10006555&cm_mmca3=M12345678&cvosrc=email.Newsletter.M12345678&cvo_campaign=000026UJ)\n",
    "\n",
    "### 2. Chicago Public Schools\n",
    "\n",
    "This dataset shows all school level performance data used to create CPS School Report Cards for the 2011-2012 school year. This dataset is provided by the city of Chicago's Data Portal.\n",
    "\n",
    "A detailed description of this dataset and the original dataset can be obtained from the Chicago Data Portal at:\n",
    "[https://data.cityofchicago.org/Education/Chicago-Public-Schools-Progress-Report-Cards-2011-/9xs2-f89t](https://data.cityofchicago.org/Education/Chicago-Public-Schools-Progress-Report-Cards-2011-/9xs2-f89t?utm_medium=Exinfluencer&utm_source=Exinfluencer&utm_content=000026UJ&utm_term=10006555&utm_id=NA-SkillsNetwork-Channel-SkillsNetworkCoursesIBMDeveloperSkillsNetworkDB0201ENSkillsNetwork20127838-2021-01-01&cm_mmc=Email_Newsletter-\\_-Developer_Ed%2BTech-\\_-WW_WW-\\_-SkillsNetwork-Courses-IBMDeveloperSkillsNetwork-DB0201EN-SkillsNetwork-20127838&cm_mmca1=000026UJ&cm_mmca2=10006555&cm_mmca3=M12345678&cvosrc=email.Newsletter.M12345678&cvo_campaign=000026UJ)\n",
    "\n",
    "### 3. Chicago Crime Data\n",
    "\n",
    "This dataset reflects reported incidents of crime (with the exception of murders where data exists for each victim) that occurred in the City of Chicago from 2001 to present, minus the most recent seven days.\n",
    "\n",
    "A detailed description of this dataset and the original dataset can be obtained from the Chicago Data Portal at:\n",
    "[https://data.cityofchicago.org/Public-Safety/Crimes-2001-to-present/ijzp-q8t2](https://data.cityofchicago.org/Public-Safety/Crimes-2001-to-present/ijzp-q8t2?utm_medium=Exinfluencer&utm_source=Exinfluencer&utm_content=000026UJ&utm_term=10006555&utm_id=NA-SkillsNetwork-Channel-SkillsNetworkCoursesIBMDeveloperSkillsNetworkDB0201ENSkillsNetwork20127838-2021-01-01&cm_mmc=Email_Newsletter-\\_-Developer_Ed%2BTech-\\_-WW_WW-\\_-SkillsNetwork-Courses-IBMDeveloperSkillsNetwork-DB0201EN-SkillsNetwork-20127838&cm_mmca1=000026UJ&cm_mmca2=10006555&cm_mmca3=M12345678&cvosrc=email.Newsletter.M12345678&cvo_campaign=000026UJ)\n"
   ]
  },
  {
   "cell_type": "markdown",
   "metadata": {
    "jp-MarkdownHeadingCollapsed": true,
    "tags": []
   },
   "source": [
    "### Download the datasets\n",
    "\n",
    "This assignment requires you to have these three tables populated with a subset of the whole datasets.\n",
    "\n",
    "In many cases the dataset to be analyzed is available as a .CSV (comma separated values) file, perhaps on the internet. Click on the links below to download and save the datasets (.CSV files):\n",
    "\n",
    "*   <a href=\"https://cf-courses-data.s3.us.cloud-object-storage.appdomain.cloud/IBMDeveloperSkillsNetwork-DB0201EN-SkillsNetwork/labs/FinalModule_Coursera_V5/data/ChicagoCensusData.csv?utm_medium=Exinfluencer&utm_source=Exinfluencer&utm_content=000026UJ&utm_term=10006555&utm_id=NA-SkillsNetwork-Channel-SkillsNetworkCoursesIBMDeveloperSkillsNetworkDB0201ENSkillsNetwork20127838-2021-01-01\" target=\"_blank\">Chicago Census Data</a>\n",
    "\n",
    "*   <a href=\"https://cf-courses-data.s3.us.cloud-object-storage.appdomain.cloud/IBMDeveloperSkillsNetwork-DB0201EN-SkillsNetwork/labs/FinalModule_Coursera_V5/data/ChicagoPublicSchools.csv?utm_medium=Exinfluencer&utm_source=Exinfluencer&utm_content=000026UJ&utm_term=10006555&utm_id=NA-SkillsNetwork-Channel-SkillsNetworkCoursesIBMDeveloperSkillsNetworkDB0201ENSkillsNetwork20127838-2021-01-01\" target=\"_blank\">Chicago Public Schools</a>\n",
    "\n",
    "*   <a href=\"https://cf-courses-data.s3.us.cloud-object-storage.appdomain.cloud/IBMDeveloperSkillsNetwork-DB0201EN-SkillsNetwork/labs/FinalModule_Coursera_V5/data/ChicagoCrimeData.csv?utm_medium=Exinfluencer&utm_source=Exinfluencer&utm_content=000026UJ&utm_term=10006555&utm_id=NA-SkillsNetwork-Channel-SkillsNetworkCoursesIBMDeveloperSkillsNetworkDB0201ENSkillsNetwork20127838-2021-01-01\" target=\"_blank\">Chicago Crime Data</a>\n",
    "\n",
    "**NOTE:** Ensure you have downloaded the datasets using the links above instead of directly from the Chicago Data Portal. The versions linked here are subsets of the original datasets and have some of the column names modified to be more database friendly which will make it easier to complete this assignment.\n"
   ]
  },
  {
   "cell_type": "markdown",
   "metadata": {},
   "source": [
    "### Store the datasets in database tables\n",
    "\n",
    "To analyze the data using SQL, it first needs to be loaded into SQLite DB.\n",
    "We will create three tables in as under:\n",
    "\n",
    "1.  **CENSUS_DATA**\n",
    "2.  **CHICAGO_PUBLIC_SCHOOLS**\n",
    "3.  **CHICAGO_CRIME_DATA**\n",
    "\n",
    "Let us now load the ipython-sql  extension and establish a connection with the database\n",
    "\n",
    "*   Here you will be loading the csv files into the pandas Dataframe and then loading the data into the above mentioned sqlite tables.\n",
    "\n",
    "*   Next you will be connecting to the sqlite database  **FinalDB**.\n",
    "\n",
    "Refer to the previous lab for hints .\n",
    "\n",
    "<a href =\"https://cf-courses-data.s3.us.cloud-object-storage.appdomain.cloud/IBMDeveloperSkillsNetwork-DB0201EN-SkillsNetwork/labs/Module%205/DB0201EN-Week3-1-4-Analyzing_SQLite.ipynb?utm_medium=Exinfluencer&utm_source=Exinfluencer&utm_content=000026UJ&utm_term=10006555&utm_id=NA-SkillsNetwork-Channel-SkillsNetworkCoursesIBMDeveloperSkillsNetworkDB0201ENSkillsNetwork20127838-2022-01-01\">Hands-on Lab: Analyzing a real World Data Set</a>\n"
   ]
  },
  {
   "cell_type": "code",
   "execution_count": 2,
   "metadata": {},
   "outputs": [],
   "source": [
    "%load_ext sql"
   ]
  },
  {
   "cell_type": "code",
   "execution_count": 3,
   "metadata": {},
   "outputs": [],
   "source": [
    "import csv, sqlite3\n",
    "\n",
    "con = sqlite3.connect(\"ChicagoData.db\")\n",
    "cur = con.cursor()"
   ]
  },
  {
   "cell_type": "code",
   "execution_count": 4,
   "metadata": {},
   "outputs": [],
   "source": [
    "!pip install -q pandas==1.1.5"
   ]
  },
  {
   "cell_type": "code",
   "execution_count": 5,
   "metadata": {},
   "outputs": [
    {
     "data": {
      "text/plain": [
       "'Connected: @ChicagoData.db'"
      ]
     },
     "execution_count": 5,
     "metadata": {},
     "output_type": "execute_result"
    }
   ],
   "source": [
    "%sql sqlite:///ChicagoData.db\n",
    "\n"
   ]
  },
  {
   "cell_type": "code",
   "execution_count": 7,
   "metadata": {},
   "outputs": [
    {
     "name": "stderr",
     "output_type": "stream",
     "text": [
      "/home/jupyterlab/conda/envs/python/lib/python3.7/site-packages/pandas/core/generic.py:2882: UserWarning: The spaces in these column names will not be changed. In pandas versions < 0.14, spaces were converted to underscores.\n",
      "  both result in 0.1234 being formatted as 0.12.\n"
     ]
    }
   ],
   "source": [
    "import pandas\n",
    "df = pandas.read_csv(\"https://cf-courses-data.s3.us.cloud-object-storage.appdomain.cloud/IBMDeveloperSkillsNetwork-DB0201EN-SkillsNetwork/labs/FinalModule_Coursera_V5/data/ChicagoCensusData.csv?utm_medium=Exinfluencer&utm_source=Exinfluencer&utm_content=000026UJ&utm_term=10006555&utm_id=NA-SkillsNetwork-Channel-SkillsNetworkCoursesIBMDeveloperSkillsNetworkDB0201ENSkillsNetwork20127838-2021-01-01\")\n",
    "df.to_sql(\"CENSUS_DATA\", con, if_exists='replace', index=False,method=\"multi\")\n",
    "df = pandas.read_csv(\"https://cf-courses-data.s3.us.cloud-object-storage.appdomain.cloud/IBMDeveloperSkillsNetwork-DB0201EN-SkillsNetwork/labs/FinalModule_Coursera_V5/data/ChicagoPublicSchools.csv?utm_medium=Exinfluencer&utm_source=Exinfluencer&utm_content=000026UJ&utm_term=10006555&utm_id=NA-SkillsNetwork-Channel-SkillsNetworkCoursesIBMDeveloperSkillsNetworkDB0201ENSkillsNetwork20127838-2021-01-01\")\n",
    "df.to_sql(\"PUBLIC_SCHOOLS\", con, if_exists='replace', index=False,method=\"multi\")\n",
    "df = pandas.read_csv(\"https://cf-courses-data.s3.us.cloud-object-storage.appdomain.cloud/IBMDeveloperSkillsNetwork-DB0201EN-SkillsNetwork/labs/FinalModule_Coursera_V5/data/ChicagoCrimeData.csv?utm_medium=Exinfluencer&utm_source=Exinfluencer&utm_content=000026UJ&utm_term=10006555&utm_id=NA-SkillsNetwork-Channel-SkillsNetworkCoursesIBMDeveloperSkillsNetworkDB0201ENSkillsNetwork20127838-2021-01-01\")\n",
    "df.to_sql(\"CRIME_DATA\", con, if_exists='replace', index=False,method=\"multi\")"
   ]
  },
  {
   "cell_type": "markdown",
   "metadata": {},
   "source": [
    "## Problems\n",
    "\n",
    "Now write and execute SQL queries to solve assignment problems\n",
    "\n",
    "### Problem 1\n",
    "\n",
    "##### Find the total number of crimes recorded in the CRIME table.\n"
   ]
  },
  {
   "cell_type": "code",
   "execution_count": 8,
   "metadata": {},
   "outputs": [
    {
     "name": "stdout",
     "output_type": "stream",
     "text": [
      " * sqlite:///ChicagoData.db\n",
      "Done.\n"
     ]
    },
    {
     "data": {
      "text/html": [
       "<table>\n",
       "    <thead>\n",
       "        <tr>\n",
       "            <th>COUNT(*)</th>\n",
       "        </tr>\n",
       "    </thead>\n",
       "    <tbody>\n",
       "        <tr>\n",
       "            <td>533</td>\n",
       "        </tr>\n",
       "    </tbody>\n",
       "</table>"
      ],
      "text/plain": [
       "[(533,)]"
      ]
     },
     "execution_count": 8,
     "metadata": {},
     "output_type": "execute_result"
    }
   ],
   "source": [
    "%sql SELECT COUNT(*) FROM CRIME_DATA;"
   ]
  },
  {
   "cell_type": "markdown",
   "metadata": {},
   "source": [
    "### Problem 2\n",
    "\n",
    "##### List community areas with per capita income less than 11000.\n"
   ]
  },
  {
   "cell_type": "code",
   "execution_count": 10,
   "metadata": {},
   "outputs": [
    {
     "name": "stdout",
     "output_type": "stream",
     "text": [
      " * sqlite:///ChicagoData.db\n",
      "Done.\n"
     ]
    },
    {
     "data": {
      "text/html": [
       "<table>\n",
       "    <thead>\n",
       "        <tr>\n",
       "            <th>COMMUNITY_AREA_NAME</th>\n",
       "        </tr>\n",
       "    </thead>\n",
       "    <tbody>\n",
       "        <tr>\n",
       "            <td>West Garfield Park</td>\n",
       "        </tr>\n",
       "        <tr>\n",
       "            <td>South Lawndale</td>\n",
       "        </tr>\n",
       "        <tr>\n",
       "            <td>Fuller Park</td>\n",
       "        </tr>\n",
       "        <tr>\n",
       "            <td>Riverdale</td>\n",
       "        </tr>\n",
       "    </tbody>\n",
       "</table>"
      ],
      "text/plain": [
       "[('West Garfield Park',),\n",
       " ('South Lawndale',),\n",
       " ('Fuller Park',),\n",
       " ('Riverdale',)]"
      ]
     },
     "execution_count": 10,
     "metadata": {},
     "output_type": "execute_result"
    }
   ],
   "source": [
    "%sql SELECT COMMUNITY_AREA_NAME from CENSUS_DATA where PER_CAPITA_INCOME<11000;"
   ]
  },
  {
   "cell_type": "markdown",
   "metadata": {},
   "source": [
    "### Problem 3\n",
    "\n",
    "##### List all case numbers for crimes  involving minors?(children are not considered minors for the purposes of crime analysis)\n"
   ]
  },
  {
   "cell_type": "code",
   "execution_count": 12,
   "metadata": {},
   "outputs": [
    {
     "name": "stdout",
     "output_type": "stream",
     "text": [
      " * sqlite:///ChicagoData.db\n",
      "Done.\n"
     ]
    },
    {
     "data": {
      "text/html": [
       "<table>\n",
       "    <thead>\n",
       "        <tr>\n",
       "            <th>CASE_NUMBER</th>\n",
       "        </tr>\n",
       "    </thead>\n",
       "    <tbody>\n",
       "        <tr>\n",
       "            <td>HL266884</td>\n",
       "        </tr>\n",
       "        <tr>\n",
       "            <td>HK238408</td>\n",
       "        </tr>\n",
       "    </tbody>\n",
       "</table>"
      ],
      "text/plain": [
       "[('HL266884',), ('HK238408',)]"
      ]
     },
     "execution_count": 12,
     "metadata": {},
     "output_type": "execute_result"
    }
   ],
   "source": [
    "\n",
    "\n",
    "%sql SELECT DISTINCT CASE_NUMBER FROM CRIME_DATA WHERE DESCRIPTION LIKE '%MINOR%'\n",
    "\n"
   ]
  },
  {
   "cell_type": "markdown",
   "metadata": {},
   "source": [
    "### Problem 4\n",
    "\n",
    "##### List all kidnapping crimes involving a child?\n"
   ]
  },
  {
   "cell_type": "code",
   "execution_count": 13,
   "metadata": {},
   "outputs": [
    {
     "name": "stdout",
     "output_type": "stream",
     "text": [
      " * sqlite:///ChicagoData.db\n",
      "Done.\n"
     ]
    },
    {
     "data": {
      "text/html": [
       "<table>\n",
       "    <thead>\n",
       "        <tr>\n",
       "            <th>ID</th>\n",
       "            <th>CASE_NUMBER</th>\n",
       "            <th>DATE</th>\n",
       "            <th>BLOCK</th>\n",
       "            <th>IUCR</th>\n",
       "            <th>PRIMARY_TYPE</th>\n",
       "            <th>DESCRIPTION</th>\n",
       "            <th>LOCATION_DESCRIPTION</th>\n",
       "            <th>ARREST</th>\n",
       "            <th>DOMESTIC</th>\n",
       "            <th>BEAT</th>\n",
       "            <th>DISTRICT</th>\n",
       "            <th>WARD</th>\n",
       "            <th>COMMUNITY_AREA_NUMBER</th>\n",
       "            <th>FBICODE</th>\n",
       "            <th>X_COORDINATE</th>\n",
       "            <th>Y_COORDINATE</th>\n",
       "            <th>YEAR</th>\n",
       "            <th>LATITUDE</th>\n",
       "            <th>LONGITUDE</th>\n",
       "            <th>LOCATION</th>\n",
       "        </tr>\n",
       "    </thead>\n",
       "    <tbody>\n",
       "        <tr>\n",
       "            <td>5276766</td>\n",
       "            <td>HN144152</td>\n",
       "            <td>2007-01-26</td>\n",
       "            <td>050XX W VAN BUREN ST</td>\n",
       "            <td>1792</td>\n",
       "            <td>KIDNAPPING</td>\n",
       "            <td>CHILD ABDUCTION/STRANGER</td>\n",
       "            <td>STREET</td>\n",
       "            <td>0</td>\n",
       "            <td>0</td>\n",
       "            <td>1533</td>\n",
       "            <td>15</td>\n",
       "            <td>29.0</td>\n",
       "            <td>25.0</td>\n",
       "            <td>20</td>\n",
       "            <td>1143050.0</td>\n",
       "            <td>1897546.0</td>\n",
       "            <td>2007</td>\n",
       "            <td>41.87490841</td>\n",
       "            <td>-87.75024931</td>\n",
       "            <td>(41.874908413, -87.750249307)</td>\n",
       "        </tr>\n",
       "    </tbody>\n",
       "</table>"
      ],
      "text/plain": [
       "[(5276766, 'HN144152', '2007-01-26', '050XX W VAN BUREN ST', '1792', 'KIDNAPPING', 'CHILD ABDUCTION/STRANGER', 'STREET', 0, 0, 1533, 15, 29.0, 25.0, '20', 1143050.0, 1897546.0, 2007, 41.87490841, -87.75024931, '(41.874908413, -87.750249307)')]"
      ]
     },
     "execution_count": 13,
     "metadata": {},
     "output_type": "execute_result"
    }
   ],
   "source": [
    "%sql SELECT * from CRIME_DATA where PRIMARY_TYPE='KIDNAPPING';"
   ]
  },
  {
   "cell_type": "markdown",
   "metadata": {},
   "source": [
    "### Problem 5\n",
    "\n",
    "##### What kinds of crimes were recorded at schools?\n"
   ]
  },
  {
   "cell_type": "code",
   "execution_count": 15,
   "metadata": {},
   "outputs": [
    {
     "name": "stdout",
     "output_type": "stream",
     "text": [
      " * sqlite:///ChicagoData.db\n",
      "Done.\n"
     ]
    },
    {
     "data": {
      "text/html": [
       "<table>\n",
       "    <thead>\n",
       "        <tr>\n",
       "            <th>ID</th>\n",
       "            <th>CASE_NUMBER</th>\n",
       "            <th>DATE</th>\n",
       "            <th>BLOCK</th>\n",
       "            <th>IUCR</th>\n",
       "            <th>PRIMARY_TYPE</th>\n",
       "            <th>DESCRIPTION</th>\n",
       "            <th>LOCATION_DESCRIPTION</th>\n",
       "            <th>ARREST</th>\n",
       "            <th>DOMESTIC</th>\n",
       "            <th>BEAT</th>\n",
       "            <th>DISTRICT</th>\n",
       "            <th>WARD</th>\n",
       "            <th>COMMUNITY_AREA_NUMBER</th>\n",
       "            <th>FBICODE</th>\n",
       "            <th>X_COORDINATE</th>\n",
       "            <th>Y_COORDINATE</th>\n",
       "            <th>YEAR</th>\n",
       "            <th>LATITUDE</th>\n",
       "            <th>LONGITUDE</th>\n",
       "            <th>LOCATION</th>\n",
       "        </tr>\n",
       "    </thead>\n",
       "    <tbody>\n",
       "        <tr>\n",
       "            <td>4006321</td>\n",
       "            <td>HL353697</td>\n",
       "            <td>2005-05-04</td>\n",
       "            <td>077XX S BURNHAM AVE</td>\n",
       "            <td>460</td>\n",
       "            <td>BATTERY</td>\n",
       "            <td>SIMPLE</td>\n",
       "            <td>SCHOOL, PUBLIC, GROUNDS</td>\n",
       "            <td>0</td>\n",
       "            <td>0</td>\n",
       "            <td>421</td>\n",
       "            <td>4</td>\n",
       "            <td>7.0</td>\n",
       "            <td>43.0</td>\n",
       "            <td>08B</td>\n",
       "            <td>1196066.0</td>\n",
       "            <td>1854156.0</td>\n",
       "            <td>2005</td>\n",
       "            <td>41.75469107</td>\n",
       "            <td>-87.55703869</td>\n",
       "            <td>(41.754691074, -87.557038686)</td>\n",
       "        </tr>\n",
       "        <tr>\n",
       "            <td>4430638</td>\n",
       "            <td>HL725506</td>\n",
       "            <td>2005-11-09</td>\n",
       "            <td>048XX N FRANCISCO AVE</td>\n",
       "            <td>484</td>\n",
       "            <td>BATTERY</td>\n",
       "            <td>PRO EMP HANDS NO/MIN INJURY</td>\n",
       "            <td>SCHOOL, PUBLIC, BUILDING</td>\n",
       "            <td>1</td>\n",
       "            <td>0</td>\n",
       "            <td>2031</td>\n",
       "            <td>20</td>\n",
       "            <td>40.0</td>\n",
       "            <td>4.0</td>\n",
       "            <td>08B</td>\n",
       "            <td>1156348.0</td>\n",
       "            <td>1932071.0</td>\n",
       "            <td>2005</td>\n",
       "            <td>41.96938944</td>\n",
       "            <td>-87.70048881</td>\n",
       "            <td>(41.96938944, -87.700488807)</td>\n",
       "        </tr>\n",
       "        <tr>\n",
       "            <td>6644618</td>\n",
       "            <td>HP716225</td>\n",
       "            <td>2008-12-04</td>\n",
       "            <td>030XX S DR MARTIN LUTHER KING JR DR</td>\n",
       "            <td>460</td>\n",
       "            <td>BATTERY</td>\n",
       "            <td>SIMPLE</td>\n",
       "            <td>SCHOOL, PUBLIC, BUILDING</td>\n",
       "            <td>0</td>\n",
       "            <td>0</td>\n",
       "            <td>2112</td>\n",
       "            <td>1</td>\n",
       "            <td>2.0</td>\n",
       "            <td>35.0</td>\n",
       "            <td>08B</td>\n",
       "            <td>1179306.0</td>\n",
       "            <td>1885032.0</td>\n",
       "            <td>2008</td>\n",
       "            <td>41.83981621</td>\n",
       "            <td>-87.61751617</td>\n",
       "            <td>(41.839816207, -87.617516172)</td>\n",
       "        </tr>\n",
       "        <tr>\n",
       "            <td>2341955</td>\n",
       "            <td>HH639427</td>\n",
       "            <td>2002-09-10</td>\n",
       "            <td>005XX N WALLER AVE</td>\n",
       "            <td>460</td>\n",
       "            <td>BATTERY</td>\n",
       "            <td>SIMPLE</td>\n",
       "            <td>SCHOOL, PUBLIC, BUILDING</td>\n",
       "            <td>0</td>\n",
       "            <td>0</td>\n",
       "            <td>1512</td>\n",
       "            <td>15</td>\n",
       "            <td>29.0</td>\n",
       "            <td>25.0</td>\n",
       "            <td>08B</td>\n",
       "            <td>1138238.0</td>\n",
       "            <td>1903181.0</td>\n",
       "            <td>2002</td>\n",
       "            <td>41.89045993</td>\n",
       "            <td>-87.76778089</td>\n",
       "            <td>(41.890459933, -87.767780886)</td>\n",
       "        </tr>\n",
       "        <tr>\n",
       "            <td>11110571</td>\n",
       "            <td>JA460432</td>\n",
       "            <td>2017-10-05</td>\n",
       "            <td>076XX S HOMAN AVE</td>\n",
       "            <td>460</td>\n",
       "            <td>BATTERY</td>\n",
       "            <td>SIMPLE</td>\n",
       "            <td>SCHOOL, PUBLIC, GROUNDS</td>\n",
       "            <td>0</td>\n",
       "            <td>0</td>\n",
       "            <td>835</td>\n",
       "            <td>8</td>\n",
       "            <td>18.0</td>\n",
       "            <td>70.0</td>\n",
       "            <td>08B</td>\n",
       "            <td>1155024.0</td>\n",
       "            <td>1853614.0</td>\n",
       "            <td>2017</td>\n",
       "            <td>41.75412154</td>\n",
       "            <td>-87.70746025</td>\n",
       "            <td>(41.754121535, -87.707460248)</td>\n",
       "        </tr>\n",
       "        <tr>\n",
       "            <td>7399281</td>\n",
       "            <td>HS200939</td>\n",
       "            <td>2010-03-10</td>\n",
       "            <td>053XX W CONGRESS PKWY</td>\n",
       "            <td>1320</td>\n",
       "            <td>CRIMINAL DAMAGE</td>\n",
       "            <td>TO VEHICLE</td>\n",
       "            <td>SCHOOL, PUBLIC, GROUNDS</td>\n",
       "            <td>0</td>\n",
       "            <td>0</td>\n",
       "            <td>1522</td>\n",
       "            <td>15</td>\n",
       "            <td>29.0</td>\n",
       "            <td>25.0</td>\n",
       "            <td>14</td>\n",
       "            <td>1140822.0</td>\n",
       "            <td>1897164.0</td>\n",
       "            <td>2010</td>\n",
       "            <td>41.8739014</td>\n",
       "            <td>-87.7584391</td>\n",
       "            <td>(41.873901397, -87.758439102)</td>\n",
       "        </tr>\n",
       "        <tr>\n",
       "            <td>3530721</td>\n",
       "            <td>HK577020</td>\n",
       "            <td>2004-08-23</td>\n",
       "            <td>016XX W JONQUIL TER</td>\n",
       "            <td>2024</td>\n",
       "            <td>NARCOTICS</td>\n",
       "            <td>POSS: HEROIN(WHITE)</td>\n",
       "            <td>SCHOOL, PUBLIC, GROUNDS</td>\n",
       "            <td>1</td>\n",
       "            <td>0</td>\n",
       "            <td>2422</td>\n",
       "            <td>24</td>\n",
       "            <td>49.0</td>\n",
       "            <td>1.0</td>\n",
       "            <td>18</td>\n",
       "            <td>1163893.0</td>\n",
       "            <td>1951001.0</td>\n",
       "            <td>2004</td>\n",
       "            <td>42.0211776</td>\n",
       "            <td>-87.67220843</td>\n",
       "            <td>(42.021177601, -87.67220843)</td>\n",
       "        </tr>\n",
       "        <tr>\n",
       "            <td>7502426</td>\n",
       "            <td>HS305355</td>\n",
       "            <td>2010-05-13</td>\n",
       "            <td>035XX S WASHTENAW AVE</td>\n",
       "            <td>1821</td>\n",
       "            <td>NARCOTICS</td>\n",
       "            <td>MANU/DEL:CANNABIS 10GM OR LESS</td>\n",
       "            <td>SCHOOL, PUBLIC, BUILDING</td>\n",
       "            <td>1</td>\n",
       "            <td>0</td>\n",
       "            <td>913</td>\n",
       "            <td>9</td>\n",
       "            <td>12.0</td>\n",
       "            <td>58.0</td>\n",
       "            <td>18</td>\n",
       "            <td>1158944.0</td>\n",
       "            <td>1880896.0</td>\n",
       "            <td>2010</td>\n",
       "            <td>41.82890791</td>\n",
       "            <td>-87.69234919</td>\n",
       "            <td>(41.828907913, -87.692349187)</td>\n",
       "        </tr>\n",
       "        <tr>\n",
       "            <td>8082600</td>\n",
       "            <td>HT315369</td>\n",
       "            <td>2011-05-26</td>\n",
       "            <td>032XX W ADAMS ST</td>\n",
       "            <td>545</td>\n",
       "            <td>ASSAULT</td>\n",
       "            <td>PRO EMP HANDS NO/MIN INJURY</td>\n",
       "            <td>SCHOOL, PUBLIC, GROUNDS</td>\n",
       "            <td>0</td>\n",
       "            <td>0</td>\n",
       "            <td>1124</td>\n",
       "            <td>11</td>\n",
       "            <td>28.0</td>\n",
       "            <td>27.0</td>\n",
       "            <td>08A</td>\n",
       "            <td>1154752.0</td>\n",
       "            <td>1898890.0</td>\n",
       "            <td>2011</td>\n",
       "            <td>41.87837031</td>\n",
       "            <td>-87.70724814</td>\n",
       "            <td>(41.878370307, -87.707248137)</td>\n",
       "        </tr>\n",
       "        <tr>\n",
       "            <td>7174283</td>\n",
       "            <td>HR585012</td>\n",
       "            <td>2009-10-13</td>\n",
       "            <td>043XX W 79TH ST</td>\n",
       "            <td>1330</td>\n",
       "            <td>CRIMINAL TRESPASS</td>\n",
       "            <td>TO LAND</td>\n",
       "            <td>SCHOOL, PUBLIC, GROUNDS</td>\n",
       "            <td>1</td>\n",
       "            <td>0</td>\n",
       "            <td>834</td>\n",
       "            <td>8</td>\n",
       "            <td>13.0</td>\n",
       "            <td>70.0</td>\n",
       "            <td>26</td>\n",
       "            <td>1148764.0</td>\n",
       "            <td>1851854.0</td>\n",
       "            <td>2009</td>\n",
       "            <td>41.74941446</td>\n",
       "            <td>-87.7304466</td>\n",
       "            <td>(41.749414464, -87.730446597)</td>\n",
       "        </tr>\n",
       "        <tr>\n",
       "            <td>2075734</td>\n",
       "            <td>HH292682</td>\n",
       "            <td>2002-04-05</td>\n",
       "            <td>016XX W BRYN MAWR AV</td>\n",
       "            <td>2850</td>\n",
       "            <td>PUBLIC PEACE VIOLATION</td>\n",
       "            <td>BOMB THREAT</td>\n",
       "            <td>SCHOOL, PRIVATE, BUILDING</td>\n",
       "            <td>0</td>\n",
       "            <td>0</td>\n",
       "            <td>2012</td>\n",
       "            <td>20</td>\n",
       "            <td>None</td>\n",
       "            <td>None</td>\n",
       "            <td>26</td>\n",
       "            <td>None</td>\n",
       "            <td>None</td>\n",
       "            <td>2002</td>\n",
       "            <td>None</td>\n",
       "            <td>None</td>\n",
       "            <td>None</td>\n",
       "        </tr>\n",
       "        <tr>\n",
       "            <td>1806896</td>\n",
       "            <td>G635735</td>\n",
       "            <td>2001-10-22</td>\n",
       "            <td>0000X N HERMITAGE AV</td>\n",
       "            <td>2850</td>\n",
       "            <td>PUBLIC PEACE VIOLATION</td>\n",
       "            <td>BOMB THREAT</td>\n",
       "            <td>SCHOOL, PUBLIC, BUILDING</td>\n",
       "            <td>1</td>\n",
       "            <td>0</td>\n",
       "            <td>1333</td>\n",
       "            <td>12</td>\n",
       "            <td>None</td>\n",
       "            <td>None</td>\n",
       "            <td>26</td>\n",
       "            <td>1164687.0</td>\n",
       "            <td>1900646.0</td>\n",
       "            <td>2001</td>\n",
       "            <td>41.88298425</td>\n",
       "            <td>-87.67071922</td>\n",
       "            <td>(41.882984246, -87.670719218)</td>\n",
       "        </tr>\n",
       "    </tbody>\n",
       "</table>"
      ],
      "text/plain": [
       "[(4006321, 'HL353697', '2005-05-04', '077XX S BURNHAM AVE', '460', 'BATTERY', 'SIMPLE', 'SCHOOL, PUBLIC, GROUNDS', 0, 0, 421, 4, 7.0, 43.0, '08B', 1196066.0, 1854156.0, 2005, 41.75469107, -87.55703869, '(41.754691074, -87.557038686)'),\n",
       " (4430638, 'HL725506', '2005-11-09', '048XX N FRANCISCO AVE', '484', 'BATTERY', 'PRO EMP HANDS NO/MIN INJURY', 'SCHOOL, PUBLIC, BUILDING', 1, 0, 2031, 20, 40.0, 4.0, '08B', 1156348.0, 1932071.0, 2005, 41.96938944, -87.70048881, '(41.96938944, -87.700488807)'),\n",
       " (6644618, 'HP716225', '2008-12-04', '030XX S DR MARTIN LUTHER KING JR DR', '460', 'BATTERY', 'SIMPLE', 'SCHOOL, PUBLIC, BUILDING', 0, 0, 2112, 1, 2.0, 35.0, '08B', 1179306.0, 1885032.0, 2008, 41.83981621, -87.61751617, '(41.839816207, -87.617516172)'),\n",
       " (2341955, 'HH639427', '2002-09-10', '005XX N WALLER AVE', '460', 'BATTERY', 'SIMPLE', 'SCHOOL, PUBLIC, BUILDING', 0, 0, 1512, 15, 29.0, 25.0, '08B', 1138238.0, 1903181.0, 2002, 41.89045993, -87.76778089, '(41.890459933, -87.767780886)'),\n",
       " (11110571, 'JA460432', '2017-10-05', '076XX S HOMAN AVE', '460', 'BATTERY', 'SIMPLE', 'SCHOOL, PUBLIC, GROUNDS', 0, 0, 835, 8, 18.0, 70.0, '08B', 1155024.0, 1853614.0, 2017, 41.75412154, -87.70746025, '(41.754121535, -87.707460248)'),\n",
       " (7399281, 'HS200939', '2010-03-10', '053XX W CONGRESS PKWY', '1320', 'CRIMINAL DAMAGE', 'TO VEHICLE', 'SCHOOL, PUBLIC, GROUNDS', 0, 0, 1522, 15, 29.0, 25.0, '14', 1140822.0, 1897164.0, 2010, 41.8739014, -87.7584391, '(41.873901397, -87.758439102)'),\n",
       " (3530721, 'HK577020', '2004-08-23', '016XX W JONQUIL TER', '2024', 'NARCOTICS', 'POSS: HEROIN(WHITE)', 'SCHOOL, PUBLIC, GROUNDS', 1, 0, 2422, 24, 49.0, 1.0, '18', 1163893.0, 1951001.0, 2004, 42.0211776, -87.67220843, '(42.021177601, -87.67220843)'),\n",
       " (7502426, 'HS305355', '2010-05-13', '035XX S WASHTENAW AVE', '1821', 'NARCOTICS', 'MANU/DEL:CANNABIS 10GM OR LESS', 'SCHOOL, PUBLIC, BUILDING', 1, 0, 913, 9, 12.0, 58.0, '18', 1158944.0, 1880896.0, 2010, 41.82890791, -87.69234919, '(41.828907913, -87.692349187)'),\n",
       " (8082600, 'HT315369', '2011-05-26', '032XX W ADAMS ST', '545', 'ASSAULT', 'PRO EMP HANDS NO/MIN INJURY', 'SCHOOL, PUBLIC, GROUNDS', 0, 0, 1124, 11, 28.0, 27.0, '08A', 1154752.0, 1898890.0, 2011, 41.87837031, -87.70724814, '(41.878370307, -87.707248137)'),\n",
       " (7174283, 'HR585012', '2009-10-13', '043XX W 79TH ST', '1330', 'CRIMINAL TRESPASS', 'TO LAND', 'SCHOOL, PUBLIC, GROUNDS', 1, 0, 834, 8, 13.0, 70.0, '26', 1148764.0, 1851854.0, 2009, 41.74941446, -87.7304466, '(41.749414464, -87.730446597)'),\n",
       " (2075734, 'HH292682', '2002-04-05', '016XX W BRYN MAWR AV', '2850', 'PUBLIC PEACE VIOLATION', 'BOMB THREAT', 'SCHOOL, PRIVATE, BUILDING', 0, 0, 2012, 20, None, None, '26', None, None, 2002, None, None, None),\n",
       " (1806896, 'G635735', '2001-10-22', '0000X N HERMITAGE AV', '2850', 'PUBLIC PEACE VIOLATION', 'BOMB THREAT', 'SCHOOL, PUBLIC, BUILDING', 1, 0, 1333, 12, None, None, '26', 1164687.0, 1900646.0, 2001, 41.88298425, -87.67071922, '(41.882984246, -87.670719218)')]"
      ]
     },
     "execution_count": 15,
     "metadata": {},
     "output_type": "execute_result"
    }
   ],
   "source": [
    "%sql SELECT * from CRIME_DATA where LOCATION_DESCRIPTION LIKE '%SCHOOL%';"
   ]
  },
  {
   "cell_type": "markdown",
   "metadata": {},
   "source": [
    "### Problem 6\n",
    "\n",
    "##### List the average safety score for each type of school.\n"
   ]
  },
  {
   "cell_type": "code",
   "execution_count": 17,
   "metadata": {},
   "outputs": [
    {
     "name": "stdout",
     "output_type": "stream",
     "text": [
      " * sqlite:///ChicagoData.db\n",
      "Done.\n"
     ]
    },
    {
     "data": {
      "text/html": [
       "<table>\n",
       "    <thead>\n",
       "        <tr>\n",
       "            <th>Elementary, Middle, or High School</th>\n",
       "            <th>AVERAGE_SAFETY_SCORE</th>\n",
       "        </tr>\n",
       "    </thead>\n",
       "    <tbody>\n",
       "        <tr>\n",
       "            <td>ES</td>\n",
       "            <td>49.52038369304557</td>\n",
       "        </tr>\n",
       "        <tr>\n",
       "            <td>HS</td>\n",
       "            <td>49.62352941176471</td>\n",
       "        </tr>\n",
       "        <tr>\n",
       "            <td>MS</td>\n",
       "            <td>48.0</td>\n",
       "        </tr>\n",
       "    </tbody>\n",
       "</table>"
      ],
      "text/plain": [
       "[('ES', 49.52038369304557), ('HS', 49.62352941176471), ('MS', 48.0)]"
      ]
     },
     "execution_count": 17,
     "metadata": {},
     "output_type": "execute_result"
    }
   ],
   "source": [
    "%sql SELECT \"Elementary, Middle, or High School\", AVG(SAFETY_SCORE) AVERAGE_SAFETY_SCORE FROM PUBLIC_SCHOOLS GROUP BY \"Elementary, Middle, or High School\""
   ]
  },
  {
   "cell_type": "markdown",
   "metadata": {},
   "source": [
    "### Problem 7\n",
    "\n",
    "##### List 5 community areas with highest % of households below poverty line\n"
   ]
  },
  {
   "cell_type": "code",
   "execution_count": 18,
   "metadata": {},
   "outputs": [
    {
     "name": "stdout",
     "output_type": "stream",
     "text": [
      " * sqlite:///ChicagoData.db\n",
      "Done.\n"
     ]
    },
    {
     "data": {
      "text/html": [
       "<table>\n",
       "    <thead>\n",
       "        <tr>\n",
       "            <th>COMMUNITY_AREA_NAME</th>\n",
       "            <th>PERCENT_HOUSEHOLDS_BELOW_POVERTY</th>\n",
       "        </tr>\n",
       "    </thead>\n",
       "    <tbody>\n",
       "        <tr>\n",
       "            <td>Riverdale</td>\n",
       "            <td>56.5</td>\n",
       "        </tr>\n",
       "        <tr>\n",
       "            <td>Fuller Park</td>\n",
       "            <td>51.2</td>\n",
       "        </tr>\n",
       "        <tr>\n",
       "            <td>Englewood</td>\n",
       "            <td>46.6</td>\n",
       "        </tr>\n",
       "        <tr>\n",
       "            <td>North Lawndale</td>\n",
       "            <td>43.1</td>\n",
       "        </tr>\n",
       "        <tr>\n",
       "            <td>East Garfield Park</td>\n",
       "            <td>42.4</td>\n",
       "        </tr>\n",
       "    </tbody>\n",
       "</table>"
      ],
      "text/plain": [
       "[('Riverdale', 56.5),\n",
       " ('Fuller Park', 51.2),\n",
       " ('Englewood', 46.6),\n",
       " ('North Lawndale', 43.1),\n",
       " ('East Garfield Park', 42.4)]"
      ]
     },
     "execution_count": 18,
     "metadata": {},
     "output_type": "execute_result"
    }
   ],
   "source": [
    "%sql SELECT COMMUNITY_AREA_NAME, PERCENT_HOUSEHOLDS_BELOW_POVERTY FROM CENSUS_DATA ORDER BY PERCENT_HOUSEHOLDS_BELOW_POVERTY DESC LIMIT 5 ;"
   ]
  },
  {
   "cell_type": "markdown",
   "metadata": {},
   "source": [
    "### Problem 8\n",
    "\n",
    "##### Which community area is most crime prone?\n"
   ]
  },
  {
   "cell_type": "code",
   "execution_count": 33,
   "metadata": {},
   "outputs": [
    {
     "name": "stdout",
     "output_type": "stream",
     "text": [
      " * sqlite:///ChicagoData.db\n",
      "Done.\n"
     ]
    },
    {
     "data": {
      "text/html": [
       "<table>\n",
       "    <thead>\n",
       "        <tr>\n",
       "            <th>COMMUNITY_AREA_NAME</th>\n",
       "        </tr>\n",
       "    </thead>\n",
       "    <tbody>\n",
       "        <tr>\n",
       "            <td>South Shore</td>\n",
       "        </tr>\n",
       "    </tbody>\n",
       "</table>"
      ],
      "text/plain": [
       "[('South Shore',)]"
      ]
     },
     "execution_count": 33,
     "metadata": {},
     "output_type": "execute_result"
    }
   ],
   "source": [
    "%%sql\n",
    "SELECT COMMUNITY_AREA_NAME from CENSUS_DATA WHERE COMMUNITY_AREA_NUMBER IN (SELECT COUNT(COMMUNITY_AREA_NUMBER)\n",
    "FROM CRIME_DATA\n",
    "GROUP BY COMMUNITY_AREA_NUMBER                                                                    \n",
    "ORDER BY COUNT(COMMUNITY_AREA_NUMBER) DESC LIMIT 1) ;"
   ]
  },
  {
   "cell_type": "code",
   "execution_count": null,
   "metadata": {},
   "outputs": [],
   "source": []
  },
  {
   "cell_type": "markdown",
   "metadata": {},
   "source": [
    "Double-click **here** for a hint\n",
    "\n",
    "<!--\n",
    "Query for the 'community area number' that is most crime prone.\n",
    "-->\n"
   ]
  },
  {
   "cell_type": "markdown",
   "metadata": {},
   "source": [
    "### Problem 9\n",
    "\n",
    "##### Use a sub-query to find the name of the community area with highest hardship index\n"
   ]
  },
  {
   "cell_type": "code",
   "execution_count": 27,
   "metadata": {},
   "outputs": [
    {
     "name": "stdout",
     "output_type": "stream",
     "text": [
      " * sqlite:///ChicagoData.db\n",
      "Done.\n"
     ]
    },
    {
     "data": {
      "text/html": [
       "<table>\n",
       "    <thead>\n",
       "        <tr>\n",
       "            <th>COMMUNITY_AREA_NAME</th>\n",
       "        </tr>\n",
       "    </thead>\n",
       "    <tbody>\n",
       "        <tr>\n",
       "            <td>Riverdale</td>\n",
       "        </tr>\n",
       "    </tbody>\n",
       "</table>"
      ],
      "text/plain": [
       "[('Riverdale',)]"
      ]
     },
     "execution_count": 27,
     "metadata": {},
     "output_type": "execute_result"
    }
   ],
   "source": [
    "%sql SELECT COMMUNITY_AREA_NAME FROM  CENSUS_DATA WHERE HARDSHIP_INDEX = (SELECT MAX(HARDSHIP_INDEX) FROM CENSUS_DATA);"
   ]
  },
  {
   "cell_type": "markdown",
   "metadata": {},
   "source": [
    "### Problem 10\n",
    "\n",
    "##### Use a sub-query to determine the Community Area Name with most number of crimes?\n"
   ]
  },
  {
   "cell_type": "code",
   "execution_count": 34,
   "metadata": {},
   "outputs": [
    {
     "name": "stdout",
     "output_type": "stream",
     "text": [
      " * sqlite:///ChicagoData.db\n",
      "Done.\n"
     ]
    },
    {
     "data": {
      "text/html": [
       "<table>\n",
       "    <thead>\n",
       "        <tr>\n",
       "            <th>COMMUNITY_AREA_NAME</th>\n",
       "        </tr>\n",
       "    </thead>\n",
       "    <tbody>\n",
       "        <tr>\n",
       "            <td>South Shore</td>\n",
       "        </tr>\n",
       "    </tbody>\n",
       "</table>"
      ],
      "text/plain": [
       "[('South Shore',)]"
      ]
     },
     "execution_count": 34,
     "metadata": {},
     "output_type": "execute_result"
    }
   ],
   "source": [
    "%%sql\n",
    "SELECT community_area_name FROM CENSUS_DATA \n",
    "WHERE COMMUNITY_AREA_NUMBER IN (SELECT COUNT(COMMUNITY_AREA_NUMBER) FROM CRIME_DATA \n",
    "    GROUP BY COMMUNITY_AREA_NUMBER\n",
    "    ORDER BY COUNT(COMMUNITY_AREA_NUMBER) DESC\n",
    "    LIMIT 1)\n",
    "LIMIT 1;"
   ]
  },
  {
   "cell_type": "markdown",
   "metadata": {},
   "source": [
    "Copyright © 2020 This notebook and its source code are released under the terms of the [MIT License](https://bigdatauniversity.com/mit-license?utm_medium=Exinfluencer&utm_source=Exinfluencer&utm_content=000026UJ&utm_term=10006555&utm_id=NA-SkillsNetwork-Channel-SkillsNetworkCoursesIBMDeveloperSkillsNetworkDB0201ENSkillsNetwork20127838-2021-01-01&cm_mmc=Email_Newsletter-\\_-Developer_Ed%2BTech-\\_-WW_WW-\\_-SkillsNetwork-Courses-IBMDeveloperSkillsNetwork-DB0201EN-SkillsNetwork-20127838&cm_mmca1=000026UJ&cm_mmca2=10006555&cm_mmca3=M12345678&cvosrc=email.Newsletter.M12345678&cvo_campaign=000026UJ).\n"
   ]
  },
  {
   "cell_type": "markdown",
   "metadata": {},
   "source": [
    "## Author(s)\n",
    "\n",
    "<h4> Hima Vasudevan </h4>\n",
    "<h4> Rav Ahuja </h4>\n",
    "<h4> Ramesh Sannreddy </h4>\n",
    "\n",
    "## Contribtuor(s)\n",
    "\n",
    "<h4> Malika Singla </h4>\n",
    "\n",
    "## Change log\n",
    "\n",
    "| Date       | Version | Changed by        | Change Description                             |\n",
    "| ---------- | ------- | ----------------- | ---------------------------------------------- |\n",
    "| 2022-03-04 | 2.5     | Lakshmi Holla     | Changed markdown.                              |\n",
    "| 2021-05-19 | 2.4     | Lakshmi Holla     | Updated the question                           |\n",
    "| 2021-04-30 | 2.3     | Malika Singla     | Updated the libraries                          |\n",
    "| 2021-01-15 | 2.2     | Rav Ahuja         | Removed problem 11 and fixed changelog         |\n",
    "| 2020-11-25 | 2.1     | Ramesh Sannareddy | Updated the problem statements, and datasets   |\n",
    "| 2020-09-05 | 2.0     | Malika Singla     | Moved lab to course repo in GitLab             |\n",
    "| 2018-07-18 | 1.0     | Rav Ahuja         | Several updates including loading instructions |\n",
    "| 2018-05-04 | 0.1     | Hima Vasudevan    | Created initial version                        |\n",
    "\n",
    "## <h3 align=\"center\"> © IBM Corporation 2020. All rights reserved. <h3/>\n"
   ]
  }
 ],
 "metadata": {
  "kernelspec": {
   "display_name": "Python",
   "language": "python",
   "name": "conda-env-python-py"
  },
  "language_info": {
   "codemirror_mode": {
    "name": "ipython",
    "version": 3
   },
   "file_extension": ".py",
   "mimetype": "text/x-python",
   "name": "python",
   "nbconvert_exporter": "python",
   "pygments_lexer": "ipython3",
   "version": "3.7.12"
  },
  "widgets": {
   "state": {},
   "version": "1.1.2"
  }
 },
 "nbformat": 4,
 "nbformat_minor": 4
}
